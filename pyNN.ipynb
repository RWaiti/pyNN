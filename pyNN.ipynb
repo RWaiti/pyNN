{
 "cells": [
  {
   "cell_type": "markdown",
   "source": [
    "## Imports"
   ],
   "metadata": {}
  },
  {
   "cell_type": "code",
   "execution_count": 208,
   "source": [
    "import numpy as np\r\n"
   ],
   "outputs": [],
   "metadata": {}
  },
  {
   "cell_type": "markdown",
   "source": [
    "## initialize_parameters"
   ],
   "metadata": {}
  },
  {
   "cell_type": "code",
   "execution_count": null,
   "source": [
    "def initialize_parameters(layers_dims):\r\n",
    "    parameters = {}\r\n",
    "    L = len(layers_dims) - 1\r\n",
    "        \r\n",
    "    for l in range(1, L+1):\r\n",
    "        parameters['W'+str(l)] = np.random.randn(layers_dims[l],layers_dims[l-1]) * np.sqrt(2./layers_dims[l-1])\r\n",
    "        parameters['b'+str(l)] = np.zeros((layers_dims[l], 1))\r\n",
    "    \r\n",
    "    return parameters"
   ],
   "outputs": [],
   "metadata": {}
  },
  {
   "cell_type": "markdown",
   "source": [
    "## activation_funtion"
   ],
   "metadata": {}
  },
  {
   "cell_type": "code",
   "execution_count": 239,
   "source": [
    "def activation_funtion(Z, activation):\r\n",
    "    if activation == \"relu\":\r\n",
    "        A = np.maximum(np.zeros(1), Z)\r\n",
    "        print(\"activation:\", activation)\r\n",
    "        return A\r\n",
    "        \r\n",
    "    if activation == \"sigmoid\":\r\n",
    "        A = 1 / (1-np.exp(-Z) + 1e-32)\r\n",
    "        print(\"activation:\", activation)\r\n",
    "        return A\r\n",
    "    \r\n",
    "    print(\"activation: linear\")\r\n",
    "    return Z"
   ],
   "outputs": [],
   "metadata": {}
  },
  {
   "cell_type": "markdown",
   "source": [
    "## forward_propagation"
   ],
   "metadata": {}
  },
  {
   "cell_type": "code",
   "execution_count": 244,
   "source": [
    "def forward_propagation(X, parameters):\r\n",
    "    cache = {}\r\n",
    "    \r\n",
    "    L = int(len(parameters)/2)\r\n",
    "    l = 1\r\n",
    "    cache['Z'+str(1)] = np.dot(parameters['W'+str(1)], X) + parameters['b'+str(1)]\r\n",
    "    cache['A'+str(1)] = activation_funtion(cache['Z'+str(1)], \"relu\")\r\n",
    "    \r\n",
    "    for l in range(2,L):\r\n",
    "        cache['Z'+str(l)] = np.dot(parameters['W'+str(l)], cache['A'+str(l-1)]) + parameters['b'+str(l)]\r\n",
    "        cache['A'+str(l)] = activation_funtion(cache['Z'+str(l)], \"relu\")\r\n",
    "    l += 1\r\n",
    "    cache['Z'+str(l)] = np.dot(parameters['W'+str(l)], cache['A'+str(l-1)]) + parameters['b'+str(l)]\r\n",
    "    cache['A'+str(l)] = activation_funtion(cache['Z'+str(l)], \"sigmoid\")\r\n",
    "\r\n",
    "    return cache"
   ],
   "outputs": [],
   "metadata": {}
  },
  {
   "cell_type": "markdown",
   "source": [
    "## back_propagation"
   ],
   "metadata": {}
  },
  {
   "cell_type": "code",
   "execution_count": null,
   "source": [],
   "outputs": [],
   "metadata": {}
  },
  {
   "cell_type": "markdown",
   "source": [
    "## Test"
   ],
   "metadata": {}
  },
  {
   "cell_type": "code",
   "execution_count": 245,
   "source": [
    "layers_dims = [3,6,2]\r\n",
    "X = np.random.randn(layers_dims[0],1)\r\n",
    "parameters = initialize_parameters(layers_dims)\r\n",
    "print(forward_propagation(X,parameters))"
   ],
   "outputs": [
    {
     "output_type": "stream",
     "name": "stdout",
     "text": [
      "activation: relu\n",
      "activation: sigmoid\n",
      "{'Z1': array([[-0.6960015 ],\n",
      "       [ 0.34285235],\n",
      "       [ 0.65396795],\n",
      "       [-1.00349968],\n",
      "       [ 0.75938888],\n",
      "       [-1.34527737]]), 'A1': array([[0.        ],\n",
      "       [0.34285235],\n",
      "       [0.65396795],\n",
      "       [0.        ],\n",
      "       [0.75938888],\n",
      "       [0.        ]]), 'Z2': array([[-0.04317237],\n",
      "       [-0.26119785]]), 'A2': array([[-22.66656082],\n",
      "       [ -3.35025725]])}\n"
     ]
    }
   ],
   "metadata": {}
  },
  {
   "cell_type": "code",
   "execution_count": 246,
   "source": [
    "layers_dims = [3,7,6,2]\r\n",
    "X = np.random.randn(layers_dims[0],1)\r\n",
    "parameters = initialize_parameters(layers_dims)\r\n",
    "print(forward_propagation(X,parameters))"
   ],
   "outputs": [
    {
     "output_type": "stream",
     "name": "stdout",
     "text": [
      "activation: relu\n",
      "activation: relu\n",
      "activation: sigmoid\n",
      "{'Z1': array([[ 2.34963719e-03],\n",
      "       [-8.59698856e-02],\n",
      "       [-2.94715085e+00],\n",
      "       [ 7.78430154e-01],\n",
      "       [-9.37011002e-01],\n",
      "       [ 3.64584582e+00],\n",
      "       [-1.43304979e+00]]), 'A1': array([[2.34963719e-03],\n",
      "       [0.00000000e+00],\n",
      "       [0.00000000e+00],\n",
      "       [7.78430154e-01],\n",
      "       [0.00000000e+00],\n",
      "       [3.64584582e+00],\n",
      "       [0.00000000e+00]]), 'Z2': array([[-1.08089258],\n",
      "       [ 0.70052242],\n",
      "       [-1.85219513],\n",
      "       [-0.01938804],\n",
      "       [ 0.79238911],\n",
      "       [ 2.35562045]]), 'A2': array([[0.        ],\n",
      "       [0.70052242],\n",
      "       [0.        ],\n",
      "       [0.        ],\n",
      "       [0.79238911],\n",
      "       [2.35562045]]), 'Z3': array([[-1.1590438 ],\n",
      "       [ 3.39257276]]), 'A3': array([[-0.45727151],\n",
      "       [ 1.03479184]])}\n"
     ]
    }
   ],
   "metadata": {}
  }
 ],
 "metadata": {
  "orig_nbformat": 4,
  "language_info": {
   "name": "python",
   "version": "3.9.6",
   "mimetype": "text/x-python",
   "codemirror_mode": {
    "name": "ipython",
    "version": 3
   },
   "pygments_lexer": "ipython3",
   "nbconvert_exporter": "python",
   "file_extension": ".py"
  },
  "kernelspec": {
   "name": "python3",
   "display_name": "Python 3.9.6 64-bit"
  },
  "interpreter": {
   "hash": "b7a6c43b79a47acc28a562c791a3854934f0f1b96e540dc555cc07e8df7186dc"
  }
 },
 "nbformat": 4,
 "nbformat_minor": 2
}